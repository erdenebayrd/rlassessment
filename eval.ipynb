{
 "cells": [
  {
   "cell_type": "code",
   "execution_count": 3,
   "metadata": {},
   "outputs": [],
   "source": [
    "import gymnasium as gym\n",
    "import numpy as np\n",
    "from stable_baselines3 import PPO"
   ]
  },
  {
   "cell_type": "code",
   "execution_count": 4,
   "metadata": {},
   "outputs": [],
   "source": [
    "# Load trained model\n",
    "model = PPO.load(\"./ppo_carracing.zip\")"
   ]
  },
  {
   "cell_type": "code",
   "execution_count": 5,
   "metadata": {},
   "outputs": [],
   "source": [
    "# Create CarRacing environment (with or without render_mode=\"human\")\n",
    "env = gym.make(\"CarRacing-v3\", render_mode=\"human\")"
   ]
  },
  {
   "cell_type": "code",
   "execution_count": 6,
   "metadata": {},
   "outputs": [],
   "source": [
    "# Number of episodes to evaluate\n",
    "num_episodes = 5\n"
   ]
  },
  {
   "cell_type": "code",
   "execution_count": 7,
   "metadata": {},
   "outputs": [],
   "source": [
    "episode_rewards = []"
   ]
  },
  {
   "cell_type": "code",
   "execution_count": null,
   "metadata": {},
   "outputs": [
    {
     "name": "stdout",
     "output_type": "stream",
     "text": [
      "Episode 1 Reward: -7.5342465753422925\n"
     ]
    }
   ],
   "source": [
    "\n",
    "for ep in range(num_episodes):\n",
    "    obs, info = env.reset()\n",
    "    done = False\n",
    "    truncated = False\n",
    "    total_reward = 0.0\n",
    "    \n",
    "    while not done and not truncated:\n",
    "        # Use the trained model to get an action\n",
    "        action, _states = model.predict(obs)\n",
    "        \n",
    "        # Step in the environment\n",
    "        obs, reward, done, truncated, info = env.step(action)\n",
    "        \n",
    "        # Accumulate reward\n",
    "        total_reward += reward\n",
    "    \n",
    "    episode_rewards.append(total_reward)\n",
    "    print(f\"Episode {ep+1} Reward: {total_reward}\")"
   ]
  },
  {
   "cell_type": "code",
   "execution_count": null,
   "metadata": {},
   "outputs": [],
   "source": [
    "# Calculate average reward across episodes\n",
    "avg_reward = np.mean(episode_rewards)\n",
    "print(f\"Average Reward over {num_episodes} episodes: {avg_reward}\")"
   ]
  }
 ],
 "metadata": {
  "kernelspec": {
   "display_name": ".venv",
   "language": "python",
   "name": "python3"
  },
  "language_info": {
   "codemirror_mode": {
    "name": "ipython",
    "version": 3
   },
   "file_extension": ".py",
   "mimetype": "text/x-python",
   "name": "python",
   "nbconvert_exporter": "python",
   "pygments_lexer": "ipython3",
   "version": "3.13.1"
  }
 },
 "nbformat": 4,
 "nbformat_minor": 2
}
