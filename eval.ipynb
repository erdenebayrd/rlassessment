{
 "cells": [
  {
   "cell_type": "code",
   "execution_count": 17,
   "metadata": {},
   "outputs": [],
   "source": [
    "import numpy as np\n",
    "import gymnasium as gym\n",
    "from stable_baselines3 import PPO"
   ]
  },
  {
   "cell_type": "code",
   "execution_count": 18,
   "metadata": {},
   "outputs": [],
   "source": [
    "# Load trained model\n",
    "model = PPO.load(\"./ppo_carracing.zip\")\n",
    "\n",
    "# Create CarRacing environment (with or without render_mode=\"human\")\n",
    "env = gym.make(\"CarRacing-v3\", render_mode=\"human\")"
   ]
  },
  {
   "cell_type": "code",
   "execution_count": 19,
   "metadata": {},
   "outputs": [],
   "source": [
    "# Number of episodes to evaluate\n",
    "num_episodes = 50\n",
    "episode_rewards = []"
   ]
  },
  {
   "cell_type": "code",
   "execution_count": 20,
   "metadata": {},
   "outputs": [
    {
     "name": "stdout",
     "output_type": "stream",
     "text": [
      "Episode 1 Reward: 26.671626297580616\n",
      "Episode 2 Reward: 655.932203389818\n",
      "Episode 3 Reward: 332.0557491289055\n",
      "Episode 4 Reward: 411.627906976728\n",
      "Episode 5 Reward: 279.0849673202495\n",
      "Episode 6 Reward: 634.6153846153709\n",
      "Episode 7 Reward: -6.148867313915455\n",
      "Episode 8 Reward: 385.81560283686815\n",
      "Episode 9 Reward: 229.11392405063862\n",
      "Episode 10 Reward: 222.1884498480201\n",
      "Episode 11 Reward: 229.67032967032202\n",
      "Episode 12 Reward: 330.3797468354345\n",
      "Episode 13 Reward: 181.55339805825722\n",
      "Episode 14 Reward: 392.80575539567\n",
      "Episode 15 Reward: 282.5757575757451\n",
      "Episode 16 Reward: 231.12582781456487\n",
      "Episode 17 Reward: -51.29999999999732\n",
      "Episode 18 Reward: 254.0983606557245\n",
      "Episode 19 Reward: 379.7297297297175\n",
      "Episode 20 Reward: 233.33333333333783\n",
      "Episode 21 Reward: 192.68292682927174\n",
      "Episode 22 Reward: 221.79930795847733\n",
      "Episode 23 Reward: 569.9346405228614\n",
      "Episode 24 Reward: -13.043478260869684\n",
      "Episode 25 Reward: 505.17799352749336\n",
      "Episode 26 Reward: 37.254901960787166\n",
      "Episode 27 Reward: 77.77777777778303\n",
      "Episode 28 Reward: 100.00000000000486\n",
      "Episode 29 Reward: 22.186495176850762\n",
      "Episode 30 Reward: 584.2105263157755\n",
      "Episode 31 Reward: 534.4827586206743\n",
      "Episode 32 Reward: 299.99999999998965\n",
      "Episode 33 Reward: 198.59154929577915\n",
      "Episode 34 Reward: 368.30985915491715\n",
      "Episode 35 Reward: 570.9677419354716\n",
      "Episode 36 Reward: 348.3985765124419\n",
      "Episode 37 Reward: 414.1843971631078\n",
      "Episode 38 Reward: 583.6734693877431\n",
      "Episode 39 Reward: 67.20257234727168\n",
      "Episode 40 Reward: 218.02120141342283\n",
      "Episode 41 Reward: 261.2167300380075\n",
      "Episode 42 Reward: 161.58940397351466\n",
      "Episode 43 Reward: 246.26865671642258\n",
      "Episode 44 Reward: 433.5689045936258\n",
      "Episode 45 Reward: 549.8194945848262\n",
      "Episode 46 Reward: 633.333333333322\n",
      "Episode 47 Reward: 409.0252707581063\n",
      "Episode 48 Reward: 28.205128205130464\n",
      "Episode 49 Reward: 719.8529411764587\n",
      "Episode 50 Reward: 480.15267175571057\n"
     ]
    }
   ],
   "source": [
    "for ep in range(num_episodes):\n",
    "    obs, info = env.reset()\n",
    "    done = False\n",
    "    truncated = False\n",
    "    total_reward = 0.0\n",
    "    \n",
    "    while not done and not truncated:\n",
    "        # Use the trained model to get an action\n",
    "        action, _states = model.predict(obs)\n",
    "        \n",
    "        # Step in the environment\n",
    "        obs, reward, done, truncated, info = env.step(action)\n",
    "        \n",
    "        # Accumulate reward\n",
    "        total_reward += reward\n",
    "    \n",
    "    episode_rewards.append(total_reward)\n",
    "    print(f\"Episode {ep+1} Reward: {total_reward}\")"
   ]
  },
  {
   "cell_type": "code",
   "execution_count": 21,
   "metadata": {},
   "outputs": [
    {
     "name": "stdout",
     "output_type": "stream",
     "text": [
      "Average Reward over 50 episodes: 309.1954987798684\n"
     ]
    }
   ],
   "source": [
    "# Calculate average reward across episodes\n",
    "avg_reward = np.mean(episode_rewards)\n",
    "print(f\"Average Reward over {num_episodes} episodes: {avg_reward}\")"
   ]
  }
 ],
 "metadata": {
  "kernelspec": {
   "display_name": ".venv",
   "language": "python",
   "name": "python3"
  },
  "language_info": {
   "codemirror_mode": {
    "name": "ipython",
    "version": 3
   },
   "file_extension": ".py",
   "mimetype": "text/x-python",
   "name": "python",
   "nbconvert_exporter": "python",
   "pygments_lexer": "ipython3",
   "version": "3.13.1"
  }
 },
 "nbformat": 4,
 "nbformat_minor": 2
}
